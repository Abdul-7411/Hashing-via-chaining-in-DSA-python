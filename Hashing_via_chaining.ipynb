{
 "cells": [
  {
   "cell_type": "code",
   "execution_count": 162,
   "id": "05bd75ed",
   "metadata": {},
   "outputs": [],
   "source": [
    "class Node:\n",
    "    def __init__(self,key,value):\n",
    "        self.key = key \n",
    "        self.value = value\n",
    "        self.next = None"
   ]
  },
  {
   "cell_type": "code",
   "execution_count": 163,
   "id": "f7a4fe74",
   "metadata": {},
   "outputs": [],
   "source": [
    "class LinkedList:\n",
    "    \n",
    "    def __init__(self):\n",
    "    # Creating an Empty Linkedlist\n",
    "        self.head = None\n",
    "        self.n = 0# Number of nodes in the LL\n",
    "        \n",
    "    def __len__(self):\n",
    "        return self.n\n",
    "\n",
    "    \n",
    "    def append(self,key,value):\n",
    "        new_node = Node(key,value)\n",
    "        \n",
    "        if self.head == None:\n",
    "            self.head = new_node\n",
    "            self.n+=1\n",
    "            return\n",
    "            \n",
    "        curr = self.head\n",
    "        while curr.next != None:\n",
    "            curr = curr.next\n",
    "        curr.next = new_node\n",
    "        self.n +=1\n",
    "        \n",
    "            \n",
    "    def clear(self):\n",
    "        self.head = None\n",
    "        self.n = 0\n",
    "    \n",
    "    def del_head(self):\n",
    "        if self.head == None:\n",
    "            print(\"Linked List is Empty...\")\n",
    "            return \n",
    "        self.head = self.head.next\n",
    "        self.n -=1\n",
    "    \n",
    "    def remove(self,key):\n",
    "        if self.head == None:\n",
    "            return \"Empty\"\n",
    "        \n",
    "        if self.head.key == key:\n",
    "            self.del_head()\n",
    "            return \n",
    "        curr = self.head\n",
    "        while curr.next != None:\n",
    "            if curr.next.key == key:\n",
    "                break\n",
    "            curr = curr.next \n",
    "        # Case1 if item not found\n",
    "        if curr.next == None:\n",
    "            print(\"Item not found..\")\n",
    "            return\n",
    "        curr.next = curr.next.next\n",
    "        self.n-=1\n",
    "    \n",
    "    def search(self,key):\n",
    "        curr = self.head\n",
    "        pos = 0\n",
    "        while curr != None:\n",
    "            if curr.key == key:\n",
    "                return pos\n",
    "            curr = curr.next\n",
    "            pos+=1\n",
    "        return -1\n",
    "    \n",
    "    def traverse(self):\n",
    "        curr = self.head\n",
    "        \n",
    "        while curr !=None:\n",
    "            print(curr.key,':',curr.value,'',end=' ')\n",
    "            curr = curr.next\n",
    "    \n",
    "    def __getitem__(self,index):\n",
    "        curr = self.head\n",
    "        pos = 0\n",
    "        while curr != None:\n",
    "            if pos == index:\n",
    "                return curr.data\n",
    "            curr = curr.next\n",
    "            pos+=1\n",
    "        return \"Index out of range\"\n",
    "    \n",
    "    def get_index(self,index):\n",
    "        temp = self.head\n",
    "        count = 0\n",
    "        while temp is not None:\n",
    "            if count == index:\n",
    "                return temp\n",
    "            temp = temp.next\n",
    "            count+=1\n"
   ]
  },
  {
   "cell_type": "code",
   "execution_count": null,
   "id": "7e65d5ea",
   "metadata": {},
   "outputs": [],
   "source": [
    "class Dictionary:\n",
    "    def __init__(self,capacity):\n",
    "        self.capacity = capacity\n",
    "        self.size = 0\n",
    "\n",
    "        # creating an array of linked list\n",
    "        self.buckets = self.make_array(capacity)\n",
    "    \n",
    "    def make_array(self,capacity):\n",
    "        L = []\n",
    "        for i in range(capacity):\n",
    "            L.append(LinkedList())\n",
    "        return L\n",
    "\n",
    "    def hash_func(self,key):\n",
    "        return abs(hash(key)) % self.capacity\n",
    "    \n",
    "    def get_node_index(self,bucket_index,key):\n",
    "        nod_index = self.buckets[bucket_index].search(key)\n",
    "        return nod_index\n",
    "\n",
    "    def __setitem__(self,key,value):\n",
    "        return self.put(key,value)\n",
    "    \n",
    "    def __getitem__(self,key):\n",
    "        return self.get_item(key)\n",
    "    \n",
    "    def __delitem__(self,key):\n",
    "        bucket_index = self.hash_func(key)\n",
    "        self.buckets[bucket_index].remove(key)\n",
    "        self.size-=1\n",
    "    \n",
    "    def __len__(self):\n",
    "        return self.size\n",
    "    \n",
    "    def __str__(self):\n",
    "        for i in self.buckets:\n",
    "            i.traverse()\n",
    "        return ''\n",
    "    \n",
    "    def get_item(self,key):\n",
    "        bucket_index = self.hash_func(key) # getting the index of bucket\n",
    "        res = self.buckets[bucket_index].search(key) # searching in bucket\n",
    "        if res == -1:\n",
    "            return \"Item not Found\"\n",
    "        else:# if found\n",
    "            node = self.buckets[bucket_index].get_index(res)\n",
    "            return node.value\n",
    "                    \n",
    "    def put(self,key,value):\n",
    "        bucket_index = self.hash_func(key)\n",
    "        \n",
    "        node_index = self.get_node_index(bucket_index,key)\n",
    "        \n",
    "        if node_index == -1:\n",
    "            # Key not found inserting the new value and node\n",
    "            self.buckets[bucket_index].append(key,value)\n",
    "            self.size+=1\n",
    "            load_factor = self.size / self.capacity\n",
    "            print(load_factor)\n",
    "            if load_factor >= 2:\n",
    "                self.rehash()\n",
    "        else:\n",
    "            #key found updating the value\n",
    "            node = self.buckets[bucket_index].get_index(node_index)\n",
    "            node.value = value\n",
    "     \n",
    "    def rehash(self):\n",
    "        self.capacity = self.capacity * 2\n",
    "        old_buckets = self.buckets\n",
    "        self.size = 0\n",
    "        self.buckets = self.make_array(self.capacity)\n",
    "        \n",
    "        for i in old_buckets:\n",
    "            for j in range(len(i)):\n",
    "                node = i.get_index(j)\n",
    "                key_item = node.key\n",
    "                value_item = node.value \n",
    "                self.put(key_item,value_item)\n",
    "    \n",
    "            "
   ]
  },
  {
   "cell_type": "code",
   "execution_count": 165,
   "id": "9f4ba9f2",
   "metadata": {},
   "outputs": [],
   "source": [
    "d1 = Dictionary(4)"
   ]
  },
  {
   "cell_type": "code",
   "execution_count": 166,
   "id": "ee6088cc",
   "metadata": {},
   "outputs": [
    {
     "name": "stdout",
     "output_type": "stream",
     "text": [
      "0.25\n"
     ]
    }
   ],
   "source": [
    "d1['python'] = 7"
   ]
  },
  {
   "cell_type": "code",
   "execution_count": 167,
   "id": "c30bdcc7",
   "metadata": {},
   "outputs": [
    {
     "name": "stdout",
     "output_type": "stream",
     "text": [
      "0.5\n"
     ]
    }
   ],
   "source": [
    "d1['Java'] = 10"
   ]
  },
  {
   "cell_type": "code",
   "execution_count": 168,
   "id": "30bb7225",
   "metadata": {},
   "outputs": [
    {
     "name": "stdout",
     "output_type": "stream",
     "text": [
      "0.75\n"
     ]
    }
   ],
   "source": [
    "d1['C++'] = 30"
   ]
  },
  {
   "cell_type": "code",
   "execution_count": 169,
   "id": "393f709b",
   "metadata": {},
   "outputs": [
    {
     "name": "stdout",
     "output_type": "stream",
     "text": [
      "1.0\n"
     ]
    }
   ],
   "source": [
    "d1['SQL'] = 45"
   ]
  },
  {
   "cell_type": "code",
   "execution_count": 170,
   "id": "21d79d0c",
   "metadata": {},
   "outputs": [
    {
     "name": "stdout",
     "output_type": "stream",
     "text": [
      "Java : 10  SQL : 45  C++ : 30  python : 7  \n"
     ]
    }
   ],
   "source": [
    "print(d1)"
   ]
  },
  {
   "cell_type": "code",
   "execution_count": 171,
   "id": "683c4cdc",
   "metadata": {},
   "outputs": [],
   "source": [
    "del d1['C++']"
   ]
  },
  {
   "cell_type": "code",
   "execution_count": 173,
   "id": "6028d12a",
   "metadata": {},
   "outputs": [
    {
     "name": "stdout",
     "output_type": "stream",
     "text": [
      "Java : 10  SQL : 45  python : 7  \n"
     ]
    }
   ],
   "source": [
    "print(d1)"
   ]
  },
  {
   "cell_type": "code",
   "execution_count": 172,
   "id": "f3740832",
   "metadata": {},
   "outputs": [
    {
     "name": "stdout",
     "output_type": "stream",
     "text": [
      "3\n"
     ]
    }
   ],
   "source": [
    "print(len(d1))"
   ]
  },
  {
   "cell_type": "code",
   "execution_count": null,
   "id": "8b5b3ded",
   "metadata": {},
   "outputs": [],
   "source": []
  },
  {
   "cell_type": "code",
   "execution_count": null,
   "id": "d5437d37",
   "metadata": {},
   "outputs": [],
   "source": []
  }
 ],
 "metadata": {
  "kernelspec": {
   "display_name": "Python 3",
   "language": "python",
   "name": "python3"
  },
  "language_info": {
   "codemirror_mode": {
    "name": "ipython",
    "version": 3
   },
   "file_extension": ".py",
   "mimetype": "text/x-python",
   "name": "python",
   "nbconvert_exporter": "python",
   "pygments_lexer": "ipython3",
   "version": "3.13.0"
  }
 },
 "nbformat": 4,
 "nbformat_minor": 5
}
